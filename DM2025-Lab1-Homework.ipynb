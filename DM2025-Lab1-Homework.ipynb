{
 "cells": [
  {
   "cell_type": "markdown",
   "metadata": {},
   "source": [
    "### Student Information\n",
    "Name: SUFAL KUMAR CHHABRA   \n",
    "\n",
    "Student ID: 4B317072\n",
    "\n",
    "GitHub ID: Capacitator"
   ]
  },
  {
   "cell_type": "markdown",
   "metadata": {},
   "source": [
    "---"
   ]
  },
  {
   "cell_type": "markdown",
   "metadata": {},
   "source": [
    "### Instructions"
   ]
  },
  {
   "cell_type": "markdown",
   "metadata": {},
   "source": [
    "### First Phase Submission"
   ]
  },
  {
   "cell_type": "markdown",
   "metadata": {},
   "source": [
    "1. First: do the **take home** exercises in the [DM2025-Lab1-Master](https://github.com/leoson-wu/DM2025-Lab1-Exercise/blob/main/DM2025-Lab1-Master.ipynb) that considered as **phase 1 (from exercise 1 to exercise 15)**. You can answer in the master file. __This part is worth 10% of your grade.__\n",
    "\n",
    "\n",
    "2. Second: follow the same process from the [DM2025-Lab1-Master](https://github.com/leoson-wu/DM2025-Lab1-Exercise/blob/main/DM2025-Lab1-Master.ipynb) on **the new dataset** up **until phase 1**. You can skip some exercises if you think some steps are not necessary. However main exercises should be completed. You don't need to explain all details as we did (some **minimal comments** explaining your code are useful though).  __This part is worth 15% of your grade.__\n",
    "    -  Use [the new dataset](https://github.com/leoson-wu/DM2025-Lab1-Exercise/blob/main/newdataset/Reddit-stock-sentiment.csv). The dataset contains a 16 columns including 'text' and 'label', with the sentiment labels being: 1.0 is positive, 0.0 is neutral and -1.0 is negative. You can simplify the dataset and use only the columns that you think are necessary. \n",
    "    \n",
    "    - You are allowed to use and modify the `helper` functions in the folder of the first lab session (notice they may need modification) or create your own.\n",
    "    - Use this file to complete the homework from the second part. Make sure the code can be run from the beginning till the end and has all the needed output.\n",
    "\n",
    "\n",
    "3. Third: please attempt the following tasks on **the new dataset**. __This part is worth 10% of your grade.__\n",
    "    - Generate meaningful **new data visualizations**. Refer to online resources and the Data Mining textbook for inspiration and ideas. \n",
    "    \n",
    "\n",
    "\n",
    "4. Fourth: It's hard for us to follow if your code is messy, so please **tidy up your notebook** and **add minimal comments where needed**. __This part is worth 5% of your grade.__\n",
    "\n",
    "You can submit your homework following these guidelines: [DM2025-Lab1-announcement](https://github.com/leoson-wu/DM2025-Lab1-Announcement/blob/main/README.md). Make sure to commit and save your changes to your repository __BEFORE the deadline (September 28th 11:59 pm, Sunday)__. "
   ]
  },
  {
   "cell_type": "markdown",
   "metadata": {},
   "source": [
    "### Second Phase Submission "
   ]
  },
  {
   "cell_type": "markdown",
   "metadata": {},
   "source": [
    "**You can keep the answer for phase 1 for easier running and update the phase 2 on the same page.**\n",
    "\n",
    "1. First: Continue doing the **take home** exercises in the [DM2025-Lab1-Master](https://github.com/leoson-wu/DM2025-Lab1-Exercise/blob/main/DM2025-Lab1-Master.ipynb) for **phase 2, starting from Finding frequent patterns**. Use the same master(.ipynb) file. Answer from phase 1 will not be considered at this stage. You can answer in the master file. __This part is worth 10% of your grade.__\n",
    "\n",
    "\n",
    "2. Second: Continue from first phase and do the same process from the [DM2025-Lab1-Master](https://github.com/leoson-wu/DM2025-Lab1-Exercise/blob/main/DM2025-Lab1-Master.ipynb) on **the new dataset** for phase 2, starting from Finding frequent pattern. You can skip some exercises if you think some steps are not necessary. However main exercises should be completed. You don't need to explain all details as we did (some **minimal comments** explaining your code are useful though).  __This part is worth 15% of your grade.__\n",
    "    - Continue using this file to complete the homework from the second part. Make sure the code can be run from the beginning till the end and has all the needed output. Use the same new dataset as in phase 1.\n",
    "    \n",
    "    - You are allowed to use and modify the `helper` functions in the folder of the first lab session (notice they may need modification) or create your own.\n",
    "\n",
    "3. Third: please attempt the following tasks on **the new dataset**. __This part is worth 20% of your grade.__\n",
    "    - Use this file to answer.\n",
    "    - Generate **TF-IDF features** from the tokens of each text. This will generating a document matrix, however, the weights will be computed differently (using the TF-IDF value of each word per document as opposed to the word frequency).  Refer to this Scikit-learn [guide](http://scikit-learn.org/stable/modules/generated/sklearn.feature_extraction.text.TfidfVectorizer.html) .\n",
    "    - Implement a simple **Naive Bayes classifier** that automatically classifies the records into their categories. Use both the TF-IDF features and word frequency features to build two seperate classifiers. Note that for the TF-IDF features you might need to use other type of NB classifier different than the one in the Master Notebook. Comment on the differences and when using augmentation with feature pattern.  Refer to this [article](https://hub.packtpub.com/implementing-3-naive-bayes-classifiers-in-scikit-learn/).\n",
    "\n",
    "\n",
    "4. Fourth: In the lab, we applied each step really quickly just to illustrate how to work with your dataset. There are somethings that are not ideal or the most efficient/meaningful. Each dataset can be handled differently as well. What are those inefficent parts you noticed? How can you improve the Data preprocessing for these specific datasets? __This part is worth 10% of your grade.__\n",
    "\n",
    "\n",
    "5. Fifth: It's hard for us to follow if your code is messy, so please **tidy up your notebook** and **add minimal comments where needed**. __This part is worth 5% of your grade.__\n",
    "\n",
    "\n",
    "You can submit your homework following these guidelines: [DM2025-Lab1-announcement](https://github.com/leoson-wu/DM2025-Lab1-Announcement/blob/main/README.md). Make sure to commit and save your changes to your repository __BEFORE the deadline (October 19th 11:59 pm, Sunday)__. "
   ]
  },
  {
   "cell_type": "markdown",
   "metadata": {},
   "source": [
    "# Phase 1"
   ]
  },
  {
   "cell_type": "code",
   "execution_count": 3,
   "metadata": {},
   "outputs": [
    {
     "name": "stdout",
     "output_type": "stream",
     "text": [
      "Removed 23 duplicate rows\n"
     ]
    },
    {
     "data": {
      "image/png": "[encoded data removed]",
      "text/plain": [
       "<Figure size 1200x400 with 2 Axes>"
      ]
     },
     "metadata": {},
     "output_type": "display_data"
    },
    {
     "name": "stdout",
     "output_type": "stream",
     "text": [
      "TDM shape: (824, 861)\n",
      "Top 20 tokens: [('just', np.int64(95)), ('trump', np.int64(92)), ('like', np.int64(83)), ('market', np.int64(82)), ('china', np.int64(72)), ('think', np.int64(52)), ('people', np.int64(51)), ('going', np.int64(50)), ('money', np.int64(46)), ('good', np.int64(46)), ('tariffs', np.int64(39)), ('make', np.int64(36)), ('time', np.int64(36)), ('want', np.int64(35)), ('don', np.int64(34)), ('stock', np.int64(34)), ('doing', np.int64(32)), ('right', np.int64(29)), ('company', np.int64(29)), ('silver', np.int64(29))]\n",
      "Baseline (Count NB) accuracy: 0.5878787878787879\n",
      "              precision    recall  f1-score   support\n",
      "\n",
      "        -1.0      0.574     0.619     0.595        63\n",
      "         0.0      0.624     0.662     0.642        80\n",
      "         1.0      0.417     0.227     0.294        22\n",
      "\n",
      "    accuracy                          0.588       165\n",
      "   macro avg      0.538     0.503     0.511       165\n",
      "weighted avg      0.577     0.588     0.578       165\n",
      "\n"
     ]
    }
   ],
   "source": [
    "# Imports and dataset loading for Phase 1\n",
    "import pandas as pd\n",
    "import numpy as np\n",
    "import matplotlib.pyplot as plt\n",
    "import seaborn as sns\n",
    "from sklearn.model_selection import train_test_split\n",
    "from sklearn.feature_extraction.text import CountVectorizer\n",
    "from sklearn.metrics import classification_report, accuracy_score\n",
    "\n",
    "# Load dataset (local path preferred); fallback to raw GitHub link if needed\n",
    "csv_path = 'newdataset/Reddit-stock-sentiment.csv'\n",
    "try:\n",
    "    df = pd.read_csv(csv_path)\n",
    "except FileNotFoundError:\n",
    "    df = pd.read_csv('https://raw.githubusercontent.com/leoson-wu/DM2025-Lab1-Exercise/main/newdataset/Reddit-stock-sentiment.csv')\n",
    "\n",
    "# Keep only necessary columns\n",
    "needed_cols = [c for c in ['text', 'label'] if c in df.columns]\n",
    "df = df[needed_cols].copy()\n",
    "\n",
    "# Basic cleaning: drop NA, strip whitespace\n",
    "df['text'] = df['text'].astype(str).str.strip()\n",
    "df = df.dropna(subset=['text', 'label']).reset_index(drop=True)\n",
    "\n",
    "# Ensure label is categorical or numeric in {-1, 0, 1}\n",
    "# If label column is string, coerce to numeric where possible\n",
    "try:\n",
    "    df['label'] = pd.to_numeric(df['label'])\n",
    "except Exception:\n",
    "    # Map common strings to numeric if present\n",
    "    mapping = {\"negative\": -1, \"neutral\": 0, \"positive\": 1}\n",
    "    df['label'] = df['label'].map(mapping)\n",
    "\n",
    "# Remove duplicates\n",
    "before = len(df)\n",
    "df = df.drop_duplicates(subset=['text']).reset_index(drop=True)\n",
    "after = len(df)\n",
    "print(f'Removed {before - after} duplicate rows')\n",
    "\n",
    "# Quick EDA\n",
    "fig, ax = plt.subplots(1, 2, figsize=(12, 4))\n",
    "sns.countplot(x='label', data=df, ax=ax[0])\n",
    "ax[0].set_title('Class distribution')\n",
    "ax[0].set_xlabel('label (-1, 0, 1)')\n",
    "ax[0].set_ylabel('count')\n",
    "\n",
    "text_lengths = df['text'].str.split().map(len)\n",
    "sns.histplot(text_lengths, bins=40, ax=ax[1])\n",
    "ax[1].set_title('Token count per text')\n",
    "ax[1].set_xlabel('num tokens')\n",
    "plt.tight_layout()\n",
    "plt.show()\n",
    "\n",
    "# Build term-document matrix using CountVectorizer\n",
    "vectorizer = CountVectorizer(lowercase=True, stop_words='english', min_df=3)\n",
    "X_counts = vectorizer.fit_transform(df['text'])\n",
    "print('TDM shape:', X_counts.shape)\n",
    "\n",
    "# Show top tokens overall\n",
    "sum_counts = np.asarray(X_counts.sum(axis=0)).ravel()\n",
    "vocab = np.array(vectorizer.get_feature_names_out())\n",
    "top_idx = sum_counts.argsort()[::-1][:20]\n",
    "print('Top 20 tokens:', list(zip(vocab[top_idx], sum_counts[top_idx])))\n",
    "\n",
    "# Simple baseline: Count features + Naive Bayes (done more fully in Phase 2)\n",
    "X_train, X_test, y_train, y_test = train_test_split(X_counts, df['label'], test_size=0.2, random_state=42, stratify=df['label'])\n",
    "from sklearn.naive_bayes import MultinomialNB\n",
    "nb = MultinomialNB()\n",
    "nb.fit(X_train, y_train)\n",
    "y_pred = nb.predict(X_test)\n",
    "print('Baseline (Count NB) accuracy:', accuracy_score(y_test, y_pred))\n",
    "print(classification_report(y_test, y_pred, digits=3))\n"
   ]
  },
  {
   "cell_type": "markdown",
   "metadata": {},
   "source": [
    "# Phase 2"
   ]
  },
  {
   "cell_type": "code",
   "execution_count": 4,
   "metadata": {},
   "outputs": [
    {
     "name": "stdout",
     "output_type": "stream",
     "text": [
      "Count NB accuracy: 0.5878787878787879\n",
      "              precision    recall  f1-score   support\n",
      "\n",
      "        -1.0      0.574     0.619     0.595        63\n",
      "         0.0      0.624     0.662     0.642        80\n",
      "         1.0      0.417     0.227     0.294        22\n",
      "\n",
      "    accuracy                          0.588       165\n",
      "   macro avg      0.538     0.503     0.511       165\n",
      "weighted avg      0.577     0.588     0.578       165\n",
      "\n",
      "TF-IDF ComplementNB accuracy: 0.5515151515151515\n",
      "              precision    recall  f1-score   support\n",
      "\n",
      "        -1.0      0.556     0.635     0.593        63\n",
      "         0.0      0.597     0.537     0.566        80\n",
      "         1.0      0.381     0.364     0.372        22\n",
      "\n",
      "    accuracy                          0.552       165\n",
      "   macro avg      0.511     0.512     0.510       165\n",
      "weighted avg      0.552     0.552     0.550       165\n",
      "\n",
      "Train class dist: Counter({0.0: 321, -1.0: 252, 1.0: 86})\n",
      "Test class dist: Counter({0.0: 80, -1.0: 63, 1.0: 22})\n"
     ]
    },
    {
     "data": {
      "image/png": "[encoded data removed]",
      "text/plain": [
       "<Figure size 1200x500 with 2 Axes>"
      ]
     },
     "metadata": {},
     "output_type": "display_data"
    }
   ],
   "source": [
    "# Phase 2: TF-IDF and Naive Bayes classifiers\n",
    "import pandas as pd\n",
    "import numpy as np\n",
    "from sklearn.model_selection import train_test_split\n",
    "from sklearn.feature_extraction.text import TfidfVectorizer, CountVectorizer\n",
    "from sklearn.naive_bayes import MultinomialNB, ComplementNB\n",
    "from sklearn.metrics import classification_report, accuracy_score\n",
    "\n",
    "# Reuse df if present; otherwise reload\n",
    "try:\n",
    "    df\n",
    "except NameError:\n",
    "    csv_path = 'newdataset/Reddit-stock-sentiment.csv'\n",
    "    try:\n",
    "        df = pd.read_csv(csv_path)\n",
    "    except FileNotFoundError:\n",
    "        df = pd.read_csv('https://raw.githubusercontent.com/leoson-wu/DM2025-Lab1-Exercise/main/newdataset/Reddit-stock-sentiment.csv')\n",
    "    needed_cols = [c for c in ['text', 'label'] if c in df.columns]\n",
    "    df = df[needed_cols].dropna().reset_index(drop=True)\n",
    "    try:\n",
    "        df['label'] = pd.to_numeric(df['label'])\n",
    "    except Exception:\n",
    "        mapping = {\"negative\": -1, \"neutral\": 0, \"positive\": 1}\n",
    "        df['label'] = df['label'].map(mapping)\n",
    "\n",
    "# Count features\n",
    "cv = CountVectorizer(lowercase=True, stop_words='english', min_df=3)\n",
    "X_counts = cv.fit_transform(df['text'])\n",
    "\n",
    "# TF-IDF features\n",
    "# For imbalanced classes and long texts, use sublinear_tf; include bigrams for richer context\n",
    "tfidf = TfidfVectorizer(lowercase=True, stop_words='english', min_df=3, ngram_range=(1,2), sublinear_tf=True)\n",
    "X_tfidf = tfidf.fit_transform(df['text'])\n",
    "\n",
    "# Train/test split\n",
    "Xc_train, Xc_test, yc_train, yc_test = train_test_split(X_counts, df['label'], test_size=0.2, random_state=42, stratify=df['label'])\n",
    "Xt_train, Xt_test, yt_train, yt_test = train_test_split(X_tfidf, df['label'], test_size=0.2, random_state=42, stratify=df['label'])\n",
    "\n",
    "# Naive Bayes on Count\n",
    "nb_count = MultinomialNB()\n",
    "nb_count.fit(Xc_train, yc_train)\n",
    "yc_pred = nb_count.predict(Xc_test)\n",
    "print('Count NB accuracy:', accuracy_score(yc_test, yc_pred))\n",
    "print(classification_report(yc_test, yc_pred, digits=3))\n",
    "\n",
    "# Naive Bayes on TF-IDF\n",
    "# ComplementNB generally performs better with imbalanced text classification\n",
    "nb_tfidf = ComplementNB()\n",
    "nb_tfidf.fit(Xt_train, yt_train)\n",
    "yt_pred = nb_tfidf.predict(Xt_test)\n",
    "print('TF-IDF ComplementNB accuracy:', accuracy_score(yt_test, yt_pred))\n",
    "print(classification_report(yt_test, yt_pred, digits=3))\n",
    "\n",
    "# Brief comparison output\n",
    "from collections import Counter\n",
    "print('Train class dist:', Counter(yc_train))\n",
    "print('Test class dist:', Counter(yc_test))\n",
    "\n",
    "# Optional: simple confusion matrices\n",
    "import matplotlib.pyplot as plt\n",
    "import seaborn as sns\n",
    "from sklearn.metrics import ConfusionMatrixDisplay\n",
    "fig, axes = plt.subplots(1, 2, figsize=(12, 5))\n",
    "ConfusionMatrixDisplay.from_predictions(yc_test, yc_pred, ax=axes[0], colorbar=False)\n",
    "axes[0].set_title('Count NB')\n",
    "ConfusionMatrixDisplay.from_predictions(yt_test, yt_pred, ax=axes[1], colorbar=False)\n",
    "axes[1].set_title('TF-IDF ComplementNB')\n",
    "plt.tight_layout(); plt.show()"
   ]
  }
 ],
 "metadata": {
  "kernelspec": {
   "display_name": ".venv",
   "language": "python",
   "name": "python3"
  },
  "language_info": {
   "codemirror_mode": {
    "name": "ipython",
    "version": 3
   },
   "file_extension": ".py",
   "mimetype": "text/x-python",
   "name": "python",
   "nbconvert_exporter": "python",
   "pygments_lexer": "ipython3",
   "version": "3.11.0"
  }
 },
 "nbformat": 4,
 "nbformat_minor": 4
}
